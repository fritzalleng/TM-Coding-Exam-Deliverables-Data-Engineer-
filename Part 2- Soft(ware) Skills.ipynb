{
    "cells": [
        {
            "cell_type": "code",
            "execution_count": 41,
            "source": [
                "import pandas as pd\r\n",
                "import numpy as np\r\n",
                "import matplotlib.pyplot as plt\r\n",
                "from scipy import stats"
            ],
            "outputs": [],
            "metadata": {}
        },
        {
            "cell_type": "code",
            "execution_count": 42,
            "source": [
                "dailycheckins = pd.read_csv(\"datasets/dailycheckins.csv\")"
            ],
            "outputs": [],
            "metadata": {}
        },
        {
            "cell_type": "code",
            "execution_count": 43,
            "source": [
                "checkin = pd.DataFrame(dailycheckins)"
            ],
            "outputs": [],
            "metadata": {}
        },
        {
            "cell_type": "code",
            "execution_count": 44,
            "source": [
                "print(checkin)"
            ],
            "outputs": [
                {
                    "output_type": "stream",
                    "name": "stdout",
                    "text": [
                        "         user                timestamp  hours               project\n",
                        "0         ned  2019-09-27 00:00:00 UTC    8.0                bizdev\n",
                        "1      robert      09/27/2019 12:00 AM    8.0                bizdev\n",
                        "2         ned   26 сентября 2019 00:00    4.0                bizdev\n",
                        "3         ned  2019-09-26 00:00:00 UTC    1.0  cultureandmanagement\n",
                        "4         ned  2019-09-26 00:00:00 UTC    1.5            project-00\n",
                        "...       ...                      ...    ...                   ...\n",
                        "20495  robert  2010-10-04 00:00:00 UTC    2.0               transit\n",
                        "20496  robert  2010-10-04 00:00:00 UTC    2.0  cultureandmanagement\n",
                        "20497  robert     4 октября 2010 00:00    1.5                bizdev\n",
                        "20498  robert  2010-10-04 00:00:00 UTC    1.0               transit\n",
                        "20499  robert  2010-10-04 00:00:00 UTC    6.0                bizdev\n",
                        "\n",
                        "[20500 rows x 4 columns]\n"
                    ]
                }
            ],
            "metadata": {}
        },
        {
            "cell_type": "code",
            "execution_count": 45,
            "source": [
                "checkin.info()"
            ],
            "outputs": [
                {
                    "output_type": "stream",
                    "name": "stdout",
                    "text": [
                        "<class 'pandas.core.frame.DataFrame'>\n",
                        "RangeIndex: 20500 entries, 0 to 20499\n",
                        "Data columns (total 4 columns):\n",
                        " #   Column     Non-Null Count  Dtype  \n",
                        "---  ------     --------------  -----  \n",
                        " 0   user       20495 non-null  object \n",
                        " 1   timestamp  20500 non-null  object \n",
                        " 2   hours      20500 non-null  float64\n",
                        " 3   project    20500 non-null  object \n",
                        "dtypes: float64(1), object(3)\n",
                        "memory usage: 640.8+ KB\n"
                    ]
                }
            ],
            "metadata": {}
        },
        {
            "cell_type": "code",
            "execution_count": 46,
            "source": [
                "checkin.isnull().sum()"
            ],
            "outputs": [
                {
                    "output_type": "execute_result",
                    "data": {
                        "text/plain": [
                            "user         5\n",
                            "timestamp    0\n",
                            "hours        0\n",
                            "project      0\n",
                            "dtype: int64"
                        ]
                    },
                    "metadata": {},
                    "execution_count": 46
                }
            ],
            "metadata": {}
        },
        {
            "cell_type": "markdown",
            "source": [
                "Seeing that there are 5 null values in the 'users' column, we try to output the rows where those null values are."
            ],
            "metadata": {}
        },
        {
            "cell_type": "code",
            "execution_count": 47,
            "source": [
                "if checkin['user'].isnull().any(axis=None):\r\n",
                "    print(checkin[checkin.isnull().any(axis=1)])"
            ],
            "outputs": [
                {
                    "output_type": "stream",
                    "name": "stdout",
                    "text": [
                        "      user                       timestamp  hours     project\n",
                        "15797  NaN  2017-12-27 10:36:14.000121 UTC   4.00  project-40\n",
                        "15798  NaN  2017-12-27 10:36:14.000121 UTC   3.00    learning\n",
                        "17572  NaN  2017-10-12 10:31:44.000227 UTC   2.75  project-47\n",
                        "17573  NaN  2017-10-12 10:31:44.000227 UTC   4.00      bizdev\n",
                        "17574  NaN  2017-10-12 10:31:44.000227 UTC   1.00     transit\n"
                    ]
                }
            ],
            "metadata": {}
        },
        {
            "cell_type": "markdown",
            "source": [
                "There are 5 NaN (null) values in the dataset. Given that there are only 5 nulls in a 20,500-row dataset, dropping the rows where there are nulls is a possible choice."
            ],
            "metadata": {}
        },
        {
            "cell_type": "code",
            "execution_count": 48,
            "source": [
                "checkin.dropna(inplace=True)"
            ],
            "outputs": [],
            "metadata": {}
        },
        {
            "cell_type": "markdown",
            "source": [
                "Rows with nulls have been dropped from the dataset."
            ],
            "metadata": {}
        },
        {
            "cell_type": "code",
            "execution_count": 49,
            "source": [
                "if checkin['user'].isnull().any(axis=None):\r\n",
                "    print(checkin[checkin.isnull().any(axis=1)])"
            ],
            "outputs": [],
            "metadata": {}
        },
        {
            "cell_type": "markdown",
            "source": [
                "The next thing that needs to be done is accounting for duplicates. "
            ],
            "metadata": {}
        },
        {
            "cell_type": "code",
            "execution_count": 50,
            "source": [
                "checkin[checkin.duplicated(subset=['user','timestamp', 'hours','project'], keep=False)]"
            ],
            "outputs": [
                {
                    "output_type": "execute_result",
                    "data": {
                        "text/plain": [
                            "          user                       timestamp  hours      project\n",
                            "30       jorah    2018-11-26 12:49:17.0405 UTC   0.50  opsandadmin\n",
                            "31       jorah    2018-11-26 12:49:17.0405 UTC   0.50  opsandadmin\n",
                            "169    joffrey    2018-11-22 14:12:32.0431 UTC   2.00   project-25\n",
                            "172    joffrey    2018-11-22 14:12:32.0431 UTC   2.00   project-25\n",
                            "174        jon     2018-11-22 11:36:11.042 UTC   1.75   project-25\n",
                            "...        ...                             ...    ...          ...\n",
                            "20442    jorah  2017-06-28 11:08:21.134554 UTC   1.00   project-07\n",
                            "20444    bronn  2017-06-28 10:56:20.979982 UTC   3.00   project-63\n",
                            "20446    bronn  2017-06-28 10:56:20.979982 UTC   3.00   project-63\n",
                            "20475    jorah  2017-06-19 09:07:51.085966 UTC   0.50   project-65\n",
                            "20476    jorah  2017-06-19 09:07:51.085966 UTC   0.50   project-65\n",
                            "\n",
                            "[1368 rows x 4 columns]"
                        ],
                        "text/html": [
                            "<div>\n",
                            "<style scoped>\n",
                            "    .dataframe tbody tr th:only-of-type {\n",
                            "        vertical-align: middle;\n",
                            "    }\n",
                            "\n",
                            "    .dataframe tbody tr th {\n",
                            "        vertical-align: top;\n",
                            "    }\n",
                            "\n",
                            "    .dataframe thead th {\n",
                            "        text-align: right;\n",
                            "    }\n",
                            "</style>\n",
                            "<table border=\"1\" class=\"dataframe\">\n",
                            "  <thead>\n",
                            "    <tr style=\"text-align: right;\">\n",
                            "      <th></th>\n",
                            "      <th>user</th>\n",
                            "      <th>timestamp</th>\n",
                            "      <th>hours</th>\n",
                            "      <th>project</th>\n",
                            "    </tr>\n",
                            "  </thead>\n",
                            "  <tbody>\n",
                            "    <tr>\n",
                            "      <th>30</th>\n",
                            "      <td>jorah</td>\n",
                            "      <td>2018-11-26 12:49:17.0405 UTC</td>\n",
                            "      <td>0.50</td>\n",
                            "      <td>opsandadmin</td>\n",
                            "    </tr>\n",
                            "    <tr>\n",
                            "      <th>31</th>\n",
                            "      <td>jorah</td>\n",
                            "      <td>2018-11-26 12:49:17.0405 UTC</td>\n",
                            "      <td>0.50</td>\n",
                            "      <td>opsandadmin</td>\n",
                            "    </tr>\n",
                            "    <tr>\n",
                            "      <th>169</th>\n",
                            "      <td>joffrey</td>\n",
                            "      <td>2018-11-22 14:12:32.0431 UTC</td>\n",
                            "      <td>2.00</td>\n",
                            "      <td>project-25</td>\n",
                            "    </tr>\n",
                            "    <tr>\n",
                            "      <th>172</th>\n",
                            "      <td>joffrey</td>\n",
                            "      <td>2018-11-22 14:12:32.0431 UTC</td>\n",
                            "      <td>2.00</td>\n",
                            "      <td>project-25</td>\n",
                            "    </tr>\n",
                            "    <tr>\n",
                            "      <th>174</th>\n",
                            "      <td>jon</td>\n",
                            "      <td>2018-11-22 11:36:11.042 UTC</td>\n",
                            "      <td>1.75</td>\n",
                            "      <td>project-25</td>\n",
                            "    </tr>\n",
                            "    <tr>\n",
                            "      <th>...</th>\n",
                            "      <td>...</td>\n",
                            "      <td>...</td>\n",
                            "      <td>...</td>\n",
                            "      <td>...</td>\n",
                            "    </tr>\n",
                            "    <tr>\n",
                            "      <th>20442</th>\n",
                            "      <td>jorah</td>\n",
                            "      <td>2017-06-28 11:08:21.134554 UTC</td>\n",
                            "      <td>1.00</td>\n",
                            "      <td>project-07</td>\n",
                            "    </tr>\n",
                            "    <tr>\n",
                            "      <th>20444</th>\n",
                            "      <td>bronn</td>\n",
                            "      <td>2017-06-28 10:56:20.979982 UTC</td>\n",
                            "      <td>3.00</td>\n",
                            "      <td>project-63</td>\n",
                            "    </tr>\n",
                            "    <tr>\n",
                            "      <th>20446</th>\n",
                            "      <td>bronn</td>\n",
                            "      <td>2017-06-28 10:56:20.979982 UTC</td>\n",
                            "      <td>3.00</td>\n",
                            "      <td>project-63</td>\n",
                            "    </tr>\n",
                            "    <tr>\n",
                            "      <th>20475</th>\n",
                            "      <td>jorah</td>\n",
                            "      <td>2017-06-19 09:07:51.085966 UTC</td>\n",
                            "      <td>0.50</td>\n",
                            "      <td>project-65</td>\n",
                            "    </tr>\n",
                            "    <tr>\n",
                            "      <th>20476</th>\n",
                            "      <td>jorah</td>\n",
                            "      <td>2017-06-19 09:07:51.085966 UTC</td>\n",
                            "      <td>0.50</td>\n",
                            "      <td>project-65</td>\n",
                            "    </tr>\n",
                            "  </tbody>\n",
                            "</table>\n",
                            "<p>1368 rows × 4 columns</p>\n",
                            "</div>"
                        ]
                    },
                    "metadata": {},
                    "execution_count": 50
                }
            ],
            "metadata": {}
        },
        {
            "cell_type": "code",
            "execution_count": 51,
            "source": [
                "checkin.drop_duplicates(inplace=True)"
            ],
            "outputs": [],
            "metadata": {}
        },
        {
            "cell_type": "code",
            "execution_count": 52,
            "source": [
                "checkin[checkin.duplicated(subset=['user','timestamp', 'hours','project'], keep=False)]"
            ],
            "outputs": [
                {
                    "output_type": "execute_result",
                    "data": {
                        "text/plain": [
                            "Empty DataFrame\n",
                            "Columns: [user, timestamp, hours, project]\n",
                            "Index: []"
                        ],
                        "text/html": [
                            "<div>\n",
                            "<style scoped>\n",
                            "    .dataframe tbody tr th:only-of-type {\n",
                            "        vertical-align: middle;\n",
                            "    }\n",
                            "\n",
                            "    .dataframe tbody tr th {\n",
                            "        vertical-align: top;\n",
                            "    }\n",
                            "\n",
                            "    .dataframe thead th {\n",
                            "        text-align: right;\n",
                            "    }\n",
                            "</style>\n",
                            "<table border=\"1\" class=\"dataframe\">\n",
                            "  <thead>\n",
                            "    <tr style=\"text-align: right;\">\n",
                            "      <th></th>\n",
                            "      <th>user</th>\n",
                            "      <th>timestamp</th>\n",
                            "      <th>hours</th>\n",
                            "      <th>project</th>\n",
                            "    </tr>\n",
                            "  </thead>\n",
                            "  <tbody>\n",
                            "  </tbody>\n",
                            "</table>\n",
                            "</div>"
                        ]
                    },
                    "metadata": {},
                    "execution_count": 52
                }
            ],
            "metadata": {}
        },
        {
            "cell_type": "markdown",
            "source": [
                "The rows with duplicates in all columns have been taken care of. Now, it's time to check if there are some erroneous entries on the 'hours' column."
            ],
            "metadata": {}
        },
        {
            "cell_type": "code",
            "execution_count": 53,
            "source": [
                "checkin[checkin.duplicated(subset=['user','timestamp','project'], keep=False)]"
            ],
            "outputs": [
                {
                    "output_type": "execute_result",
                    "data": {
                        "text/plain": [
                            "          user                     timestamp  hours      project\n",
                            "7        jaime       2018-12-21 00:00:00 UTC    0.5   project-47\n",
                            "8        jaime       2018-12-21 00:00:00 UTC    3.5   project-47\n",
                            "11       jaime       2018-12-20 00:00:00 UTC    1.0   project-47\n",
                            "12       jaime       2018-12-20 00:00:00 UTC    3.0   project-47\n",
                            "13     catelyn  2018-11-26 14:47:36.0429 UTC    0.6  opsandadmin\n",
                            "...        ...                           ...    ...          ...\n",
                            "20492   robert       2010-10-04 00:00:00 UTC    0.5       bizdev\n",
                            "20493   robert       2010-10-04 00:00:00 UTC    2.0  opsandadmin\n",
                            "20495   robert       2010-10-04 00:00:00 UTC    2.0      transit\n",
                            "20498   robert       2010-10-04 00:00:00 UTC    1.0      transit\n",
                            "20499   robert       2010-10-04 00:00:00 UTC    6.0       bizdev\n",
                            "\n",
                            "[6354 rows x 4 columns]"
                        ],
                        "text/html": [
                            "<div>\n",
                            "<style scoped>\n",
                            "    .dataframe tbody tr th:only-of-type {\n",
                            "        vertical-align: middle;\n",
                            "    }\n",
                            "\n",
                            "    .dataframe tbody tr th {\n",
                            "        vertical-align: top;\n",
                            "    }\n",
                            "\n",
                            "    .dataframe thead th {\n",
                            "        text-align: right;\n",
                            "    }\n",
                            "</style>\n",
                            "<table border=\"1\" class=\"dataframe\">\n",
                            "  <thead>\n",
                            "    <tr style=\"text-align: right;\">\n",
                            "      <th></th>\n",
                            "      <th>user</th>\n",
                            "      <th>timestamp</th>\n",
                            "      <th>hours</th>\n",
                            "      <th>project</th>\n",
                            "    </tr>\n",
                            "  </thead>\n",
                            "  <tbody>\n",
                            "    <tr>\n",
                            "      <th>7</th>\n",
                            "      <td>jaime</td>\n",
                            "      <td>2018-12-21 00:00:00 UTC</td>\n",
                            "      <td>0.5</td>\n",
                            "      <td>project-47</td>\n",
                            "    </tr>\n",
                            "    <tr>\n",
                            "      <th>8</th>\n",
                            "      <td>jaime</td>\n",
                            "      <td>2018-12-21 00:00:00 UTC</td>\n",
                            "      <td>3.5</td>\n",
                            "      <td>project-47</td>\n",
                            "    </tr>\n",
                            "    <tr>\n",
                            "      <th>11</th>\n",
                            "      <td>jaime</td>\n",
                            "      <td>2018-12-20 00:00:00 UTC</td>\n",
                            "      <td>1.0</td>\n",
                            "      <td>project-47</td>\n",
                            "    </tr>\n",
                            "    <tr>\n",
                            "      <th>12</th>\n",
                            "      <td>jaime</td>\n",
                            "      <td>2018-12-20 00:00:00 UTC</td>\n",
                            "      <td>3.0</td>\n",
                            "      <td>project-47</td>\n",
                            "    </tr>\n",
                            "    <tr>\n",
                            "      <th>13</th>\n",
                            "      <td>catelyn</td>\n",
                            "      <td>2018-11-26 14:47:36.0429 UTC</td>\n",
                            "      <td>0.6</td>\n",
                            "      <td>opsandadmin</td>\n",
                            "    </tr>\n",
                            "    <tr>\n",
                            "      <th>...</th>\n",
                            "      <td>...</td>\n",
                            "      <td>...</td>\n",
                            "      <td>...</td>\n",
                            "      <td>...</td>\n",
                            "    </tr>\n",
                            "    <tr>\n",
                            "      <th>20492</th>\n",
                            "      <td>robert</td>\n",
                            "      <td>2010-10-04 00:00:00 UTC</td>\n",
                            "      <td>0.5</td>\n",
                            "      <td>bizdev</td>\n",
                            "    </tr>\n",
                            "    <tr>\n",
                            "      <th>20493</th>\n",
                            "      <td>robert</td>\n",
                            "      <td>2010-10-04 00:00:00 UTC</td>\n",
                            "      <td>2.0</td>\n",
                            "      <td>opsandadmin</td>\n",
                            "    </tr>\n",
                            "    <tr>\n",
                            "      <th>20495</th>\n",
                            "      <td>robert</td>\n",
                            "      <td>2010-10-04 00:00:00 UTC</td>\n",
                            "      <td>2.0</td>\n",
                            "      <td>transit</td>\n",
                            "    </tr>\n",
                            "    <tr>\n",
                            "      <th>20498</th>\n",
                            "      <td>robert</td>\n",
                            "      <td>2010-10-04 00:00:00 UTC</td>\n",
                            "      <td>1.0</td>\n",
                            "      <td>transit</td>\n",
                            "    </tr>\n",
                            "    <tr>\n",
                            "      <th>20499</th>\n",
                            "      <td>robert</td>\n",
                            "      <td>2010-10-04 00:00:00 UTC</td>\n",
                            "      <td>6.0</td>\n",
                            "      <td>bizdev</td>\n",
                            "    </tr>\n",
                            "  </tbody>\n",
                            "</table>\n",
                            "<p>6354 rows × 4 columns</p>\n",
                            "</div>"
                        ]
                    },
                    "metadata": {},
                    "execution_count": 53
                }
            ],
            "metadata": {}
        },
        {
            "cell_type": "markdown",
            "source": [
                "As can be seen in the data above, there are entries with the same 'user', 'timestamp', and 'project', but with different 'hours' entries. The 'hours' per entry can be aggregated and duplicates can be deleted."
            ],
            "metadata": {}
        },
        {
            "cell_type": "code",
            "execution_count": 54,
            "source": [
                "checkin = checkin.groupby(['user', 'timestamp', 'project'], as_index=False)['hours'].sum()"
            ],
            "outputs": [],
            "metadata": {}
        },
        {
            "cell_type": "code",
            "execution_count": 55,
            "source": [
                "checkin.drop_duplicates(subset=['user', 'timestamp', 'project']).reset_index(drop=True)"
            ],
            "outputs": [
                {
                    "output_type": "execute_result",
                    "data": {
                        "text/plain": [
                            "          user                       timestamp      project  hours\n",
                            "0         arya             09/24/2018 12:06 PM   project-32    3.0\n",
                            "1         arya             10/03/2018 01:35 PM   project-32    2.0\n",
                            "2         arya             10/16/2018 12:00 AM   project-32    2.0\n",
                            "3         arya             11/13/2018 10:49 AM   project-32    7.0\n",
                            "4         arya           17 октября 2018 15:23   project-25    2.5\n",
                            "...        ...                             ...          ...    ...\n",
                            "16028  ygritte         2018-07-09 00:00:00 UTC    workshops    1.0\n",
                            "16029  ygritte  2018-07-10 14:48:03.000592 UTC       design    6.0\n",
                            "16030  ygritte  2018-07-10 14:48:03.000592 UTC  opsandadmin    1.0\n",
                            "16031  ygritte               23 мая 2018 12:30      website    3.5\n",
                            "16032  ygritte               24 мая 2018 09:54   project-11    3.5\n",
                            "\n",
                            "[16033 rows x 4 columns]"
                        ],
                        "text/html": [
                            "<div>\n",
                            "<style scoped>\n",
                            "    .dataframe tbody tr th:only-of-type {\n",
                            "        vertical-align: middle;\n",
                            "    }\n",
                            "\n",
                            "    .dataframe tbody tr th {\n",
                            "        vertical-align: top;\n",
                            "    }\n",
                            "\n",
                            "    .dataframe thead th {\n",
                            "        text-align: right;\n",
                            "    }\n",
                            "</style>\n",
                            "<table border=\"1\" class=\"dataframe\">\n",
                            "  <thead>\n",
                            "    <tr style=\"text-align: right;\">\n",
                            "      <th></th>\n",
                            "      <th>user</th>\n",
                            "      <th>timestamp</th>\n",
                            "      <th>project</th>\n",
                            "      <th>hours</th>\n",
                            "    </tr>\n",
                            "  </thead>\n",
                            "  <tbody>\n",
                            "    <tr>\n",
                            "      <th>0</th>\n",
                            "      <td>arya</td>\n",
                            "      <td>09/24/2018 12:06 PM</td>\n",
                            "      <td>project-32</td>\n",
                            "      <td>3.0</td>\n",
                            "    </tr>\n",
                            "    <tr>\n",
                            "      <th>1</th>\n",
                            "      <td>arya</td>\n",
                            "      <td>10/03/2018 01:35 PM</td>\n",
                            "      <td>project-32</td>\n",
                            "      <td>2.0</td>\n",
                            "    </tr>\n",
                            "    <tr>\n",
                            "      <th>2</th>\n",
                            "      <td>arya</td>\n",
                            "      <td>10/16/2018 12:00 AM</td>\n",
                            "      <td>project-32</td>\n",
                            "      <td>2.0</td>\n",
                            "    </tr>\n",
                            "    <tr>\n",
                            "      <th>3</th>\n",
                            "      <td>arya</td>\n",
                            "      <td>11/13/2018 10:49 AM</td>\n",
                            "      <td>project-32</td>\n",
                            "      <td>7.0</td>\n",
                            "    </tr>\n",
                            "    <tr>\n",
                            "      <th>4</th>\n",
                            "      <td>arya</td>\n",
                            "      <td>17 октября 2018 15:23</td>\n",
                            "      <td>project-25</td>\n",
                            "      <td>2.5</td>\n",
                            "    </tr>\n",
                            "    <tr>\n",
                            "      <th>...</th>\n",
                            "      <td>...</td>\n",
                            "      <td>...</td>\n",
                            "      <td>...</td>\n",
                            "      <td>...</td>\n",
                            "    </tr>\n",
                            "    <tr>\n",
                            "      <th>16028</th>\n",
                            "      <td>ygritte</td>\n",
                            "      <td>2018-07-09 00:00:00 UTC</td>\n",
                            "      <td>workshops</td>\n",
                            "      <td>1.0</td>\n",
                            "    </tr>\n",
                            "    <tr>\n",
                            "      <th>16029</th>\n",
                            "      <td>ygritte</td>\n",
                            "      <td>2018-07-10 14:48:03.000592 UTC</td>\n",
                            "      <td>design</td>\n",
                            "      <td>6.0</td>\n",
                            "    </tr>\n",
                            "    <tr>\n",
                            "      <th>16030</th>\n",
                            "      <td>ygritte</td>\n",
                            "      <td>2018-07-10 14:48:03.000592 UTC</td>\n",
                            "      <td>opsandadmin</td>\n",
                            "      <td>1.0</td>\n",
                            "    </tr>\n",
                            "    <tr>\n",
                            "      <th>16031</th>\n",
                            "      <td>ygritte</td>\n",
                            "      <td>23 мая 2018 12:30</td>\n",
                            "      <td>website</td>\n",
                            "      <td>3.5</td>\n",
                            "    </tr>\n",
                            "    <tr>\n",
                            "      <th>16032</th>\n",
                            "      <td>ygritte</td>\n",
                            "      <td>24 мая 2018 09:54</td>\n",
                            "      <td>project-11</td>\n",
                            "      <td>3.5</td>\n",
                            "    </tr>\n",
                            "  </tbody>\n",
                            "</table>\n",
                            "<p>16033 rows × 4 columns</p>\n",
                            "</div>"
                        ]
                    },
                    "metadata": {},
                    "execution_count": 55
                }
            ],
            "metadata": {}
        },
        {
            "cell_type": "markdown",
            "source": [
                "Restoring proper order of columns:"
            ],
            "metadata": {}
        },
        {
            "cell_type": "code",
            "execution_count": 56,
            "source": [
                "columns_names = [\"user\", \"timestamp\", \"hours\",\"project\"]\r\n",
                "checkin = checkin.reindex(columns=columns_names)"
            ],
            "outputs": [],
            "metadata": {}
        },
        {
            "cell_type": "markdown",
            "source": [
                "Now that the duplicates are taken care of, it's time to check for any discrepancies in the names of either 'user' or 'project'."
            ],
            "metadata": {}
        },
        {
            "cell_type": "code",
            "execution_count": 57,
            "source": [
                "users = checkin['user'].unique()\r\n",
                "print(sorted(users))"
            ],
            "outputs": [
                {
                    "output_type": "stream",
                    "name": "stdout",
                    "text": [
                        "['arya', 'bran', 'brienne', 'bronn', 'catelyn', 'cersei', 'daario', 'daenerys', 'davos', 'ellaria', 'gendry', 'gilly', 'hound', 'jaime', 'jeor', 'joffrey', 'jon', 'jorah', 'khal', 'littlefinger', 'margaery', 'melisandre', 'missandei', 'ned', 'ramsay', 'robb', 'robert', 'samwell', 'sansa', 'shae', 'stannis', 'talisa', 'theon', 'tommen', 'tormund', 'tyrion', 'tywin', 'varys', 'viserys', 'ygritte']\n"
                    ]
                }
            ],
            "metadata": {}
        },
        {
            "cell_type": "markdown",
            "source": [
                "There doesn't seem to be any discrepancies in the entries in 'user'."
            ],
            "metadata": {}
        },
        {
            "cell_type": "code",
            "execution_count": 58,
            "source": [
                "projects = checkin['project'].unique()\r\n",
                "print(sorted(projects))"
            ],
            "outputs": [
                {
                    "output_type": "stream",
                    "name": "stdout",
                    "text": [
                        "['airflow', 'bizdev', 'blog-ideas', 'blogideas', 'blogpost', 'braintooling', 'branding', 'breakout', 'brief', 'clutureandmanagement', 'culturandmanagement', 'cultureandmanagemen', 'cultureandmanagement', 'cultureandmangement', 'd3js', 'data', 'dataethics', 'datastorytelling', 'datastrategy', 'debugging', 'design', 'dogood', 'engineering', 'events', 'fatnesscheckin', 'finance', 'friendship', 'hiring', 'hirng', 'internal', 'internals', 'interns', 'laptop', 'learning', 'leave', 'legal', 'lunch', 'machine-learning', 'machinelearning', 'marketing', 'media', 'misc', 'miscellaneous', 'new-office', 'onboarding', 'opandadmin', 'opdandadmin', 'opsadadmin', 'opsandadmin', 'opsandamin', 'opsandandmin', 'opssandadmin', 'overthinking', 'pandas', 'paperwork', 'pm', 'products', 'project-00', 'project-01', 'project-02', 'project-03', 'project-04', 'project-05', 'project-06', 'project-07', 'project-08', 'project-09', 'project-10', 'project-11', 'project-12', 'project-13', 'project-14', 'project-15', 'project-16', 'project-17', 'project-18', 'project-19', 'project-20', 'project-21', 'project-22', 'project-23', 'project-24', 'project-25', 'project-26', 'project-27', 'project-28', 'project-29', 'project-30', 'project-31', 'project-32', 'project-33', 'project-34', 'project-35', 'project-36', 'project-37', 'project-38', 'project-39', 'project-40', 'project-41', 'project-42', 'project-43', 'project-44', 'project-45', 'project-46', 'project-47', 'project-48', 'project-49', 'project-50', 'project-51', 'project-52', 'project-53', 'project-54', 'project-55', 'project-56', 'project-57', 'project-58', 'project-59', 'project-60', 'project-61', 'project-62', 'project-63', 'project-64', 'project-65', 'project-66', 'project-67', 'project-68', 'project-69', 'project-70', 'project-71', 'project-72', 'project-73', 'project-74', 'qgis', 'random', 'recruitment', 'security', 'sqool', 'strategy', 'traffic', 'transit', 'website', 'weeklygoals', 'workshop', 'workshops']\n"
                    ]
                }
            ],
            "metadata": {}
        },
        {
            "cell_type": "markdown",
            "source": [
                "As can be seen in the list of unique 'project' entries, there are some entries that seem to be alike, differing by just a letter, perhaps a misspelling, or terms pertaining to the same thing.\r\n",
                "\r\n",
                "For discrepancies with dashes, we remove the dash for uniformity."
            ],
            "metadata": {}
        },
        {
            "cell_type": "markdown",
            "source": [
                "For entries with only one similar option:"
            ],
            "metadata": {}
        },
        {
            "cell_type": "code",
            "execution_count": 59,
            "source": [
                "checkin['project'] = checkin['project'].str.replace('blog-ideas', 'blogideas')\r\n",
                "checkin['project'] = checkin['project'].str.replace('hirng', 'hiring')\r\n",
                "checkin['project'] = checkin['project'].str.replace(r'\\binternal\\b', 'internals')\r\n",
                "checkin['project'] = checkin['project'].str.replace('machine-learning', 'machinelearning')\r\n",
                "checkin['project'] = checkin['project'].str.replace('miscellaneous', 'misc')\r\n",
                "checkin['project'] = checkin['project'].str.replace(r'\\bworkshop\\b', 'workshops')"
            ],
            "outputs": [
                {
                    "output_type": "stream",
                    "name": "stderr",
                    "text": [
                        "C:\\Users\\Gulmatico\\AppData\\Local\\Temp\\ipykernel_22016\\3131454126.py:3: FutureWarning: The default value of regex will change from True to False in a future version.\n",
                        "  checkin['project'] = checkin['project'].str.replace(r'\\binternal\\b', 'internals')\n",
                        "C:\\Users\\Gulmatico\\AppData\\Local\\Temp\\ipykernel_22016\\3131454126.py:6: FutureWarning: The default value of regex will change from True to False in a future version.\n",
                        "  checkin['project'] = checkin['project'].str.replace(r'\\bworkshop\\b', 'workshops')\n"
                    ]
                }
            ],
            "metadata": {}
        },
        {
            "cell_type": "markdown",
            "source": [
                "To deal with entries with multiple similar names, an array with the misspelled names are used."
            ],
            "metadata": {}
        },
        {
            "cell_type": "code",
            "execution_count": 60,
            "source": [
                "culture = ['clutureandmanagement', 'culturandmanagement', r'\\bcultureandmanagemen\\b', 'cultureandmangement']\r\n",
                "\r\n",
                "for i in culture:\r\n",
                "    checkin['project'] = checkin['project'].str.replace(i, 'cultureandmanagement')\r\n",
                "\r\n",
                "ops = ['opandadmin', 'opdandadmin', 'opsadadmin', 'opsandadmin', 'opsandamin', 'opsandandmin', 'opssandadmin']\r\n",
                "\r\n",
                "for i in ops:\r\n",
                "    checkin['project'] = checkin['project'].str.replace(i, 'opsandadmin')"
            ],
            "outputs": [
                {
                    "output_type": "stream",
                    "name": "stderr",
                    "text": [
                        "C:\\Users\\Gulmatico\\AppData\\Local\\Temp\\ipykernel_22016\\1571406003.py:4: FutureWarning: The default value of regex will change from True to False in a future version.\n",
                        "  checkin['project'] = checkin['project'].str.replace(i, 'cultureandmanagement')\n"
                    ]
                }
            ],
            "metadata": {}
        },
        {
            "cell_type": "code",
            "execution_count": 61,
            "source": [
                "projects = checkin['project'].unique()\r\n",
                "print(sorted(projects))"
            ],
            "outputs": [
                {
                    "output_type": "stream",
                    "name": "stdout",
                    "text": [
                        "['airflow', 'bizdev', 'blogideas', 'blogpost', 'braintooling', 'branding', 'breakout', 'brief', 'cultureandmanagement', 'd3js', 'data', 'dataethics', 'datastorytelling', 'datastrategy', 'debugging', 'design', 'dogood', 'engineering', 'events', 'fatnesscheckin', 'finance', 'friendship', 'hiring', 'internals', 'interns', 'laptop', 'learning', 'leave', 'legal', 'lunch', 'machinelearning', 'marketing', 'media', 'misc', 'new-office', 'onboarding', 'opsandadmin', 'overthinking', 'pandas', 'paperwork', 'pm', 'products', 'project-00', 'project-01', 'project-02', 'project-03', 'project-04', 'project-05', 'project-06', 'project-07', 'project-08', 'project-09', 'project-10', 'project-11', 'project-12', 'project-13', 'project-14', 'project-15', 'project-16', 'project-17', 'project-18', 'project-19', 'project-20', 'project-21', 'project-22', 'project-23', 'project-24', 'project-25', 'project-26', 'project-27', 'project-28', 'project-29', 'project-30', 'project-31', 'project-32', 'project-33', 'project-34', 'project-35', 'project-36', 'project-37', 'project-38', 'project-39', 'project-40', 'project-41', 'project-42', 'project-43', 'project-44', 'project-45', 'project-46', 'project-47', 'project-48', 'project-49', 'project-50', 'project-51', 'project-52', 'project-53', 'project-54', 'project-55', 'project-56', 'project-57', 'project-58', 'project-59', 'project-60', 'project-61', 'project-62', 'project-63', 'project-64', 'project-65', 'project-66', 'project-67', 'project-68', 'project-69', 'project-70', 'project-71', 'project-72', 'project-73', 'project-74', 'qgis', 'random', 'recruitment', 'security', 'sqool', 'strategy', 'traffic', 'transit', 'website', 'weeklygoals', 'workshops']\n"
                    ]
                }
            ],
            "metadata": {}
        },
        {
            "cell_type": "markdown",
            "source": [
                "The discrepancies in the 'user' and 'project' columns are now fixed. "
            ],
            "metadata": {}
        },
        {
            "cell_type": "markdown",
            "source": [
                "Russian months can be found in the 'timestamp'. First, these months can be converted to its English translation using the str.replace function."
            ],
            "metadata": {}
        },
        {
            "cell_type": "code",
            "execution_count": 62,
            "source": [
                "checkin['timestamp'] = checkin['timestamp'].str.replace('января', 'January')\r\n",
                "checkin['timestamp'] = checkin['timestamp'].str.replace('февраля', 'February')\r\n",
                "checkin['timestamp'] = checkin['timestamp'].str.replace('марта', 'March')\r\n",
                "checkin['timestamp'] = checkin['timestamp'].str.replace('апреля', 'April')\r\n",
                "checkin['timestamp'] = checkin['timestamp'].str.replace('мая', 'May')\r\n",
                "checkin['timestamp'] = checkin['timestamp'].str.replace('июня', 'June')\r\n",
                "checkin['timestamp'] = checkin['timestamp'].str.replace('июля', 'July')\r\n",
                "checkin['timestamp'] = checkin['timestamp'].str.replace('августа', 'August')\r\n",
                "checkin['timestamp'] = checkin['timestamp'].str.replace('сентября', 'September')\r\n",
                "checkin['timestamp'] = checkin['timestamp'].str.replace('октября', 'October')\r\n",
                "checkin['timestamp'] = checkin['timestamp'].str.replace('ноября', 'November')\r\n",
                "checkin['timestamp'] = checkin['timestamp'].str.replace('декабря', 'December')"
            ],
            "outputs": [],
            "metadata": {}
        },
        {
            "cell_type": "code",
            "execution_count": 63,
            "source": [
                "checkin['timestamp'] = pd.to_datetime(checkin['timestamp'], utc=True)"
            ],
            "outputs": [],
            "metadata": {}
        },
        {
            "cell_type": "code",
            "execution_count": 64,
            "source": [
                "checkin['timestamp'] = checkin.timestamp.dt.strftime('%Y-%m-%d %H:%M:%S')"
            ],
            "outputs": [],
            "metadata": {}
        },
        {
            "cell_type": "code",
            "execution_count": 65,
            "source": [
                "print(checkin)"
            ],
            "outputs": [
                {
                    "output_type": "stream",
                    "name": "stdout",
                    "text": [
                        "          user            timestamp  hours      project\n",
                        "0         arya  2018-09-24 12:06:00    3.0   project-32\n",
                        "1         arya  2018-10-03 13:35:00    2.0   project-32\n",
                        "2         arya  2018-10-16 00:00:00    2.0   project-32\n",
                        "3         arya  2018-11-13 10:49:00    7.0   project-32\n",
                        "4         arya  2018-10-17 15:23:00    2.5   project-25\n",
                        "...        ...                  ...    ...          ...\n",
                        "16028  ygritte  2018-07-09 00:00:00    1.0    workshops\n",
                        "16029  ygritte  2018-07-10 14:48:03    6.0       design\n",
                        "16030  ygritte  2018-07-10 14:48:03    1.0  opsandadmin\n",
                        "16031  ygritte  2018-05-23 12:30:00    3.5      website\n",
                        "16032  ygritte  2018-05-24 09:54:00    3.5   project-11\n",
                        "\n",
                        "[16033 rows x 4 columns]\n"
                    ]
                }
            ],
            "metadata": {}
        },
        {
            "cell_type": "code",
            "execution_count": 66,
            "source": [
                "checkin.sort_values(by=['timestamp'])"
            ],
            "outputs": [
                {
                    "output_type": "execute_result",
                    "data": {
                        "text/plain": [
                            "         user            timestamp  hours               project\n",
                            "11127  robert  2010-10-04 00:00:00    4.5               transit\n",
                            "11915  robert  2010-10-04 00:00:00    1.5                bizdev\n",
                            "11122  robert  2010-10-04 00:00:00   10.0                bizdev\n",
                            "11123  robert  2010-10-04 00:00:00    2.0  cultureandmanagement\n",
                            "11124  robert  2010-10-04 00:00:00    3.0           opsandadmin\n",
                            "...       ...                  ...    ...                   ...\n",
                            "10609     ned  2019-09-26 00:00:00    1.5            project-00\n",
                            "10626     ned  2019-09-26 00:00:00    4.0                bizdev\n",
                            "10610     ned  2019-09-26 00:00:00    1.0            project-43\n",
                            "10611     ned  2019-09-27 00:00:00    8.0                bizdev\n",
                            "11079  robert  2019-09-27 00:00:00    8.0                bizdev\n",
                            "\n",
                            "[16033 rows x 4 columns]"
                        ],
                        "text/html": [
                            "<div>\n",
                            "<style scoped>\n",
                            "    .dataframe tbody tr th:only-of-type {\n",
                            "        vertical-align: middle;\n",
                            "    }\n",
                            "\n",
                            "    .dataframe tbody tr th {\n",
                            "        vertical-align: top;\n",
                            "    }\n",
                            "\n",
                            "    .dataframe thead th {\n",
                            "        text-align: right;\n",
                            "    }\n",
                            "</style>\n",
                            "<table border=\"1\" class=\"dataframe\">\n",
                            "  <thead>\n",
                            "    <tr style=\"text-align: right;\">\n",
                            "      <th></th>\n",
                            "      <th>user</th>\n",
                            "      <th>timestamp</th>\n",
                            "      <th>hours</th>\n",
                            "      <th>project</th>\n",
                            "    </tr>\n",
                            "  </thead>\n",
                            "  <tbody>\n",
                            "    <tr>\n",
                            "      <th>11127</th>\n",
                            "      <td>robert</td>\n",
                            "      <td>2010-10-04 00:00:00</td>\n",
                            "      <td>4.5</td>\n",
                            "      <td>transit</td>\n",
                            "    </tr>\n",
                            "    <tr>\n",
                            "      <th>11915</th>\n",
                            "      <td>robert</td>\n",
                            "      <td>2010-10-04 00:00:00</td>\n",
                            "      <td>1.5</td>\n",
                            "      <td>bizdev</td>\n",
                            "    </tr>\n",
                            "    <tr>\n",
                            "      <th>11122</th>\n",
                            "      <td>robert</td>\n",
                            "      <td>2010-10-04 00:00:00</td>\n",
                            "      <td>10.0</td>\n",
                            "      <td>bizdev</td>\n",
                            "    </tr>\n",
                            "    <tr>\n",
                            "      <th>11123</th>\n",
                            "      <td>robert</td>\n",
                            "      <td>2010-10-04 00:00:00</td>\n",
                            "      <td>2.0</td>\n",
                            "      <td>cultureandmanagement</td>\n",
                            "    </tr>\n",
                            "    <tr>\n",
                            "      <th>11124</th>\n",
                            "      <td>robert</td>\n",
                            "      <td>2010-10-04 00:00:00</td>\n",
                            "      <td>3.0</td>\n",
                            "      <td>opsandadmin</td>\n",
                            "    </tr>\n",
                            "    <tr>\n",
                            "      <th>...</th>\n",
                            "      <td>...</td>\n",
                            "      <td>...</td>\n",
                            "      <td>...</td>\n",
                            "      <td>...</td>\n",
                            "    </tr>\n",
                            "    <tr>\n",
                            "      <th>10609</th>\n",
                            "      <td>ned</td>\n",
                            "      <td>2019-09-26 00:00:00</td>\n",
                            "      <td>1.5</td>\n",
                            "      <td>project-00</td>\n",
                            "    </tr>\n",
                            "    <tr>\n",
                            "      <th>10626</th>\n",
                            "      <td>ned</td>\n",
                            "      <td>2019-09-26 00:00:00</td>\n",
                            "      <td>4.0</td>\n",
                            "      <td>bizdev</td>\n",
                            "    </tr>\n",
                            "    <tr>\n",
                            "      <th>10610</th>\n",
                            "      <td>ned</td>\n",
                            "      <td>2019-09-26 00:00:00</td>\n",
                            "      <td>1.0</td>\n",
                            "      <td>project-43</td>\n",
                            "    </tr>\n",
                            "    <tr>\n",
                            "      <th>10611</th>\n",
                            "      <td>ned</td>\n",
                            "      <td>2019-09-27 00:00:00</td>\n",
                            "      <td>8.0</td>\n",
                            "      <td>bizdev</td>\n",
                            "    </tr>\n",
                            "    <tr>\n",
                            "      <th>11079</th>\n",
                            "      <td>robert</td>\n",
                            "      <td>2019-09-27 00:00:00</td>\n",
                            "      <td>8.0</td>\n",
                            "      <td>bizdev</td>\n",
                            "    </tr>\n",
                            "  </tbody>\n",
                            "</table>\n",
                            "<p>16033 rows × 4 columns</p>\n",
                            "</div>"
                        ]
                    },
                    "metadata": {},
                    "execution_count": 66
                }
            ],
            "metadata": {}
        },
        {
            "cell_type": "markdown",
            "source": [
                "The earliest dates are in the 2010s and then the next dates that are consistent are in 2017. I removed the dates before 2017 so as to make the data more compact."
            ],
            "metadata": {}
        },
        {
            "cell_type": "code",
            "execution_count": 67,
            "source": [
                "checkin = checkin[(checkin.timestamp > '2017-01-01 00:00:00')]"
            ],
            "outputs": [],
            "metadata": {}
        },
        {
            "cell_type": "code",
            "execution_count": 68,
            "source": [
                "print(checkin)"
            ],
            "outputs": [
                {
                    "output_type": "stream",
                    "name": "stdout",
                    "text": [
                        "          user            timestamp  hours      project\n",
                        "0         arya  2018-09-24 12:06:00    3.0   project-32\n",
                        "1         arya  2018-10-03 13:35:00    2.0   project-32\n",
                        "2         arya  2018-10-16 00:00:00    2.0   project-32\n",
                        "3         arya  2018-11-13 10:49:00    7.0   project-32\n",
                        "4         arya  2018-10-17 15:23:00    2.5   project-25\n",
                        "...        ...                  ...    ...          ...\n",
                        "16028  ygritte  2018-07-09 00:00:00    1.0    workshops\n",
                        "16029  ygritte  2018-07-10 14:48:03    6.0       design\n",
                        "16030  ygritte  2018-07-10 14:48:03    1.0  opsandadmin\n",
                        "16031  ygritte  2018-05-23 12:30:00    3.5      website\n",
                        "16032  ygritte  2018-05-24 09:54:00    3.5   project-11\n",
                        "\n",
                        "[16022 rows x 4 columns]\n"
                    ]
                }
            ],
            "metadata": {}
        },
        {
            "cell_type": "code",
            "execution_count": 69,
            "source": [
                "hours_1 = checkin['hours']\r\n",
                "hours_1.apply(np.floor)"
            ],
            "outputs": [
                {
                    "output_type": "execute_result",
                    "data": {
                        "text/plain": [
                            "0        3.0\n",
                            "1        2.0\n",
                            "2        2.0\n",
                            "3        7.0\n",
                            "4        2.0\n",
                            "        ... \n",
                            "16028    1.0\n",
                            "16029    6.0\n",
                            "16030    1.0\n",
                            "16031    3.0\n",
                            "16032    3.0\n",
                            "Name: hours, Length: 16022, dtype: float64"
                        ]
                    },
                    "metadata": {},
                    "execution_count": 69
                }
            ],
            "metadata": {}
        },
        {
            "cell_type": "code",
            "execution_count": 70,
            "source": [
                "plt.hist(hours_1)"
            ],
            "outputs": [
                {
                    "output_type": "execute_result",
                    "data": {
                        "text/plain": [
                            "(array([1.1625e+04, 3.1350e+03, 1.1330e+03, 8.2000e+01, 3.2000e+01,\n",
                            "        1.2000e+01, 0.0000e+00, 1.0000e+00, 1.0000e+00, 1.0000e+00]),\n",
                            " array([ 0. ,  3.5,  7. , 10.5, 14. , 17.5, 21. , 24.5, 28. , 31.5, 35. ]),\n",
                            " <BarContainer object of 10 artists>)"
                        ]
                    },
                    "metadata": {},
                    "execution_count": 70
                },
                {
                    "output_type": "display_data",
                    "data": {
                        "text/plain": [
                            "<Figure size 432x288 with 1 Axes>"
                        ],
                        "image/png": "[encoded data removed]"
                    },
                    "metadata": {
                        "needs_background": "light"
                    }
                }
            ],
            "metadata": {}
        },
        {
            "cell_type": "markdown",
            "source": [
                "As can be seen in the histogram of values for 'hours', which are rounded down, most of the values are in the 0-10 hour range. The rule of thumb for outliers is removing those values with z-scores of more than 3. "
            ],
            "metadata": {}
        },
        {
            "cell_type": "code",
            "execution_count": 71,
            "source": [
                "checkin['hours'].max()"
            ],
            "outputs": [
                {
                    "output_type": "execute_result",
                    "data": {
                        "text/plain": [
                            "35.0"
                        ]
                    },
                    "metadata": {},
                    "execution_count": 71
                }
            ],
            "metadata": {}
        },
        {
            "cell_type": "code",
            "execution_count": 72,
            "source": [
                "checkin = checkin[(np.abs(stats.zscore(checkin['hours'])) < 3)]"
            ],
            "outputs": [],
            "metadata": {}
        },
        {
            "cell_type": "code",
            "execution_count": 73,
            "source": [
                "print(checkin)"
            ],
            "outputs": [
                {
                    "output_type": "stream",
                    "name": "stdout",
                    "text": [
                        "          user            timestamp  hours      project\n",
                        "0         arya  2018-09-24 12:06:00    3.0   project-32\n",
                        "1         arya  2018-10-03 13:35:00    2.0   project-32\n",
                        "2         arya  2018-10-16 00:00:00    2.0   project-32\n",
                        "3         arya  2018-11-13 10:49:00    7.0   project-32\n",
                        "4         arya  2018-10-17 15:23:00    2.5   project-25\n",
                        "...        ...                  ...    ...          ...\n",
                        "16028  ygritte  2018-07-09 00:00:00    1.0    workshops\n",
                        "16029  ygritte  2018-07-10 14:48:03    6.0       design\n",
                        "16030  ygritte  2018-07-10 14:48:03    1.0  opsandadmin\n",
                        "16031  ygritte  2018-05-23 12:30:00    3.5      website\n",
                        "16032  ygritte  2018-05-24 09:54:00    3.5   project-11\n",
                        "\n",
                        "[15851 rows x 4 columns]\n"
                    ]
                }
            ],
            "metadata": {}
        },
        {
            "cell_type": "code",
            "execution_count": 74,
            "source": [
                "checkin['hours'].max()"
            ],
            "outputs": [
                {
                    "output_type": "execute_result",
                    "data": {
                        "text/plain": [
                            "9.75"
                        ]
                    },
                    "metadata": {},
                    "execution_count": 74
                }
            ],
            "metadata": {}
        },
        {
            "cell_type": "code",
            "execution_count": 75,
            "source": [
                "checkin.to_csv(\"datasets/dailycheckins_cleaned.csv\")"
            ],
            "outputs": [],
            "metadata": {}
        }
    ],
    "metadata": {
        "orig_nbformat": 4,
        "language_info": {
            "name": "python",
            "version": "3.9.6",
            "mimetype": "text/x-python",
            "codemirror_mode": {
                "name": "ipython",
                "version": 3
            },
            "pygments_lexer": "ipython3",
            "nbconvert_exporter": "python",
            "file_extension": ".py"
        },
        "kernelspec": {
            "name": "python3",
            "display_name": "Python 3.9.6 64-bit"
        },
        "interpreter": {
            "hash": "7fd9935ce906770cb0b4beba9b4f94d747c5c00620c9f522b5e5ce72da6b117d"
        }
    },
    "nbformat": 4,
    "nbformat_minor": 2
}